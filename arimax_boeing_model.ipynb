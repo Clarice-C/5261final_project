{
 "cells": [
  {
   "cell_type": "code",
   "execution_count": 14,
   "metadata": {},
   "outputs": [],
   "source": [
    "import pandas as pd\n",
    "import numpy as np\n",
    "import matplotlib.pyplot as plt\n",
    "from statsmodels.tsa.statespace.sarimax import SARIMAX\n",
    "import pmdarima as pm                                         \n",
    "from sklearn.ensemble import RandomForestRegressor\n",
    "from sklearn.metrics import mean_squared_error, mean_absolute_error, r2_score\n",
    "from sklearn.model_selection import TimeSeriesSplit\n",
    "import tabulate\n",
    "import warnings\n",
    "import random\n",
    "\n",
    "warnings.filterwarnings('ignore')\n",
    "np.random.seed(123)\n",
    "random.seed(123)"
   ]
  },
  {
   "cell_type": "markdown",
   "metadata": {},
   "source": [
    "#1 \\\n",
    "The weekly data set, covering December 2000 through February 2025, is imported from a CSV file. The date column is converted to a datetime type, chronologically sorted, and set as the index to facilitate time-series operations. These actions guarantee temporal ordering, which is mandatory for valid model estimation."
   ]
  },
  {
   "cell_type": "code",
   "execution_count": 8,
   "metadata": {},
   "outputs": [
    {
     "data": {
      "text/html": [
       "<div>\n",
       "<style scoped>\n",
       "    .dataframe tbody tr th:only-of-type {\n",
       "        vertical-align: middle;\n",
       "    }\n",
       "\n",
       "    .dataframe tbody tr th {\n",
       "        vertical-align: top;\n",
       "    }\n",
       "\n",
       "    .dataframe thead th {\n",
       "        text-align: right;\n",
       "    }\n",
       "</style>\n",
       "<table border=\"1\" class=\"dataframe\">\n",
       "  <thead>\n",
       "    <tr style=\"text-align: right;\">\n",
       "      <th></th>\n",
       "      <th>boeing</th>\n",
       "      <th>DJI</th>\n",
       "      <th>dollar</th>\n",
       "      <th>oil</th>\n",
       "      <th>GDP</th>\n",
       "      <th>CPI</th>\n",
       "      <th>delivery</th>\n",
       "      <th>Al</th>\n",
       "    </tr>\n",
       "    <tr>\n",
       "      <th>date</th>\n",
       "      <th></th>\n",
       "      <th></th>\n",
       "      <th></th>\n",
       "      <th></th>\n",
       "      <th></th>\n",
       "      <th></th>\n",
       "      <th></th>\n",
       "      <th></th>\n",
       "    </tr>\n",
       "  </thead>\n",
       "  <tbody>\n",
       "    <tr>\n",
       "      <th>2000-12-02</th>\n",
       "      <td>45.69375</td>\n",
       "      <td>10712.91</td>\n",
       "      <td>114.050003</td>\n",
       "      <td>28.623124</td>\n",
       "      <td>10547.44441</td>\n",
       "      <td>0.310889</td>\n",
       "      <td>34.081967</td>\n",
       "      <td>1569.055</td>\n",
       "    </tr>\n",
       "    <tr>\n",
       "      <th>2000-12-09</th>\n",
       "      <td>42.38616</td>\n",
       "      <td>10434.96</td>\n",
       "      <td>112.900002</td>\n",
       "      <td>28.561275</td>\n",
       "      <td>10557.86620</td>\n",
       "      <td>0.314474</td>\n",
       "      <td>34.131148</td>\n",
       "      <td>1565.277</td>\n",
       "    </tr>\n",
       "    <tr>\n",
       "      <th>2000-12-16</th>\n",
       "      <td>41.44696</td>\n",
       "      <td>10635.56</td>\n",
       "      <td>110.820000</td>\n",
       "      <td>28.499425</td>\n",
       "      <td>10568.28800</td>\n",
       "      <td>0.318059</td>\n",
       "      <td>34.180328</td>\n",
       "      <td>1561.499</td>\n",
       "    </tr>\n",
       "    <tr>\n",
       "      <th>2000-12-23</th>\n",
       "      <td>43.12119</td>\n",
       "      <td>10787.99</td>\n",
       "      <td>109.559998</td>\n",
       "      <td>28.437576</td>\n",
       "      <td>10578.70979</td>\n",
       "      <td>0.321644</td>\n",
       "      <td>34.229508</td>\n",
       "      <td>1557.722</td>\n",
       "    </tr>\n",
       "    <tr>\n",
       "      <th>2000-12-30</th>\n",
       "      <td>38.38439</td>\n",
       "      <td>10662.01</td>\n",
       "      <td>108.419998</td>\n",
       "      <td>28.375727</td>\n",
       "      <td>10589.13158</td>\n",
       "      <td>0.325229</td>\n",
       "      <td>34.278689</td>\n",
       "      <td>1553.944</td>\n",
       "    </tr>\n",
       "  </tbody>\n",
       "</table>\n",
       "</div>"
      ],
      "text/plain": [
       "              boeing       DJI      dollar        oil          GDP       CPI  \\\n",
       "date                                                                           \n",
       "2000-12-02  45.69375  10712.91  114.050003  28.623124  10547.44441  0.310889   \n",
       "2000-12-09  42.38616  10434.96  112.900002  28.561275  10557.86620  0.314474   \n",
       "2000-12-16  41.44696  10635.56  110.820000  28.499425  10568.28800  0.318059   \n",
       "2000-12-23  43.12119  10787.99  109.559998  28.437576  10578.70979  0.321644   \n",
       "2000-12-30  38.38439  10662.01  108.419998  28.375727  10589.13158  0.325229   \n",
       "\n",
       "             delivery        Al  \n",
       "date                             \n",
       "2000-12-02  34.081967  1569.055  \n",
       "2000-12-09  34.131148  1565.277  \n",
       "2000-12-16  34.180328  1561.499  \n",
       "2000-12-23  34.229508  1557.722  \n",
       "2000-12-30  34.278689  1553.944  "
      ]
     },
     "execution_count": 8,
     "metadata": {},
     "output_type": "execute_result"
    }
   ],
   "source": [
    "df = pd.read_csv('Data collected - 2000_12_2.csv')          \n",
    "df['date'] = pd.to_datetime(df['date'])\n",
    "df.sort_values('date', inplace=True)                        \n",
    "df.set_index('date', inplace=True)                         \n",
    "df.head()                                                   "
   ]
  },
  {
   "cell_type": "markdown",
   "metadata": {},
   "source": [
    "#2 \\\n",
    "The response variable (endog) is Boeing’s share price. Candidate exogenous regressors include macro-financial indicators—Dow Jones Industrial Average, U.S. Dollar Index, WTI crude-oil price, aluminium price, U.S. GDP growth, CPI, and Boeing aircraft deliveries—chosen on a priori economic grounds for their potential influence on the stock."
   ]
  },
  {
   "cell_type": "code",
   "execution_count": 10,
   "metadata": {},
   "outputs": [],
   "source": [
    "exog_cols  = ['DJI', 'dollar', 'oil', 'Al', 'GDP', 'CPI', 'delivery']\n",
    "target_col = 'boeing'\n",
    "\n",
    "y = df[target_col]\n",
    "X = df[exog_cols]"
   ]
  },
  {
   "cell_type": "markdown",
   "metadata": {},
   "source": [
    "#3 \\\n",
    "A Random-Forest model with 250 trees is fitted to rank predictors by mean decrease in impurity. This non-parametric ranking provides a computationally inexpensive filter; only the three most informative variables are retained for the ARIMAX specification, thereby reducing dimensionality and mitigating over-fitting risk."
   ]
  },
  {
   "cell_type": "code",
   "execution_count": 15,
   "metadata": {},
   "outputs": [
    {
     "name": "stdout",
     "output_type": "stream",
     "text": [
      "\n",
      "Top exogenous drivers:\n",
      "|          |          0 |\n",
      "|:---------|-----------:|\n",
      "| DJI      | 0.591095   |\n",
      "| GDP      | 0.302848   |\n",
      "| CPI      | 0.0733598  |\n",
      "| oil      | 0.0102003  |\n",
      "| dollar   | 0.00955442 |\n",
      "| Al       | 0.00662098 |\n",
      "| delivery | 0.00632131 |\n"
     ]
    }
   ],
   "source": [
    "rf = RandomForestRegressor(n_estimators = 250,\n",
    "                           random_state  = 0,\n",
    "                           n_jobs        = -1)\n",
    "rf.fit(X, y)\n",
    "\n",
    "imp_series = pd.Series(rf.feature_importances_, index = exog_cols)\n",
    "imp_series.sort_values(ascending = False, inplace = True)\n",
    "top_exog_cols = imp_series.index[:3].tolist()\n",
    "\n",
    "print('\\nTop exogenous drivers:')\n",
    "print(imp_series.to_markdown())                               \n",
    "\n",
    "X = X[top_exog_cols]"
   ]
  },
  {
   "cell_type": "markdown",
   "metadata": {},
   "source": [
    "| Rank | Variable | Importance | Interpretation |\n",
    "|:---:|:---------|:----------:|:-----------------------------------------------------------------------------------------------------------------------------------------|\n",
    "| **1** | **DJI**      | **0.59** | ≈ 59 % of the total split-gain in the random-forest model is driven by movements in the Dow Jones Industrial Average, indicating that Boeing’s equity co-moves strongly with the broader U.S. equity market. |\n",
    "| **2** | **GDP**      | **0.30** | Macro-economic growth conditions account for roughly 30 % of the predictive signal. |\n",
    "| **3** | **CPI**      | **0.07** | Inflation exerts a smaller yet non-trivial influence on Boeing’s share price. |\n",
    "| 4 | oil      | < 0.01 | Adds marginal explanatory power in this tree-based ranking. |\n",
    "| 5 | dollar   | < 0.01 | Ditto; limited incremental signal. |\n",
    "| 6 | Al       | < 0.01 | Aluminium prices provide negligible gain. |\n",
    "| 7 | delivery | < 0.01 | Aircraft-delivery counts are not informative at the weekly frequency used here. |"
   ]
  },
  {
   "cell_type": "markdown",
   "metadata": {},
   "source": [
    "Therefore, the bulk of the predictive signal is concentrated in DJI and GDP; the other covariates are effectively noise for this specific horizon and sampling frequency."
   ]
  },
  {
   "cell_type": "markdown",
   "metadata": {},
   "source": [
    "#4 \\\n",
    "To emulate genuine forecasting conditions, the final 52 weekly observations (≈ one calendar year) are withheld as a test set. The remaining observations constitute the training sample. This forward-chaining split respects the time order and prevents look-ahead bias."
   ]
  },
  {
   "cell_type": "code",
   "execution_count": 16,
   "metadata": {},
   "outputs": [],
   "source": [
    "n_test = 52\n",
    "y_train, y_test = y.iloc[:-n_test], y.iloc[-n_test:]\n",
    "X_train, X_test = X.iloc[:-n_test], X.iloc[-n_test:]"
   ]
  },
  {
   "cell_type": "markdown",
   "metadata": {},
   "source": [
    "#5 \\\n",
    "pmdarima.auto_arima conducts a stepwise search over plausible (p,d,q) combinations, selecting the order with the minimum Akaike Information Criterion (AIC). Seasonality is disabled given the absence of an evident 52-week cycle in the weekly series."
   ]
  },
  {
   "cell_type": "code",
   "execution_count": 17,
   "metadata": {},
   "outputs": [
    {
     "name": "stdout",
     "output_type": "stream",
     "text": [
      "Auto-selected ARIMA order: (p,d,q) = (0,1,0)\n"
     ]
    }
   ],
   "source": [
    "auto_model = pm.auto_arima(\n",
    "    y_train,\n",
    "    exogenous          = X_train,\n",
    "    seasonal           = False,\n",
    "    stepwise           = True,\n",
    "    suppress_warnings  = True,\n",
    "    error_action       = 'ignore',\n",
    "    trace              = False\n",
    ")\n",
    "\n",
    "p, d, q = auto_model.order\n",
    "print(f'Auto-selected ARIMA order: (p,d,q) = ({p},{d},{q})')"
   ]
  },
  {
   "cell_type": "markdown",
   "metadata": {},
   "source": [
    "- d = 1 → the series is differenced once to achieve stationarity.\n",
    "- p = q = 0 → no autoregressive or moving-average structure is detected after differencing.\n",
    "\n",
    "The Auto-ARIMA judged the differenced Boeing series to be white noise once exogenous drivers are present; the resulting model is essentially a random-walk-with-drift driven only by the exogenous regressors. While not uncommon for highly volatile equities, it does mean the model is leaning almost entirely on DJI/GDP/CPI to generate forecasts."
   ]
  },
  {
   "cell_type": "markdown",
   "metadata": {},
   "source": [
    "#6 \\\n",
    "A SARIMAX model (with the seasonal component suppressed) is fitted to the training data using the previously selected (p,d,q) order and the reduced exogenous matrix. Stationarity and invertibility constraints are relaxed to allow the maximum-likelihood optimizer broader parameter space, thus avoiding premature termination."
   ]
  },
  {
   "cell_type": "code",
   "execution_count": 18,
   "metadata": {},
   "outputs": [
    {
     "name": "stdout",
     "output_type": "stream",
     "text": [
      "                               SARIMAX Results                                \n",
      "==============================================================================\n",
      "Dep. Variable:                 boeing   No. Observations:                 1211\n",
      "Model:               SARIMAX(0, 1, 0)   Log Likelihood               -3886.056\n",
      "Date:                Tue, 22 Apr 2025   AIC                           7780.112\n",
      "Time:                        23:51:49   BIC                           7800.503\n",
      "Sample:                    12-02-2000   HQIC                          7787.790\n",
      "                         - 02-10-2024                                         \n",
      "Covariance Type:                  opg                                         \n",
      "==============================================================================\n",
      "                 coef    std err          z      P>|z|      [0.025      0.975]\n",
      "------------------------------------------------------------------------------\n",
      "DJI            0.0119      0.000     68.620      0.000       0.012       0.012\n",
      "GDP           -0.0074      0.007     -1.010      0.313      -0.022       0.007\n",
      "CPI            0.3919     11.377      0.034      0.973     -21.907      22.691\n",
      "sigma2        36.2568      0.577     62.858      0.000      35.126      37.387\n",
      "===================================================================================\n",
      "Ljung-Box (L1) (Q):                   2.17   Jarque-Bera (JB):             17786.46\n",
      "Prob(Q):                              0.14   Prob(JB):                         0.00\n",
      "Heteroskedasticity (H):              21.72   Skew:                            -0.95\n",
      "Prob(H) (two-sided):                  0.00   Kurtosis:                        21.69\n",
      "===================================================================================\n",
      "\n",
      "Warnings:\n",
      "[1] Covariance matrix calculated using the outer product of gradients (complex-step).\n"
     ]
    }
   ],
   "source": [
    "model = SARIMAX(\n",
    "    endog                 = y_train,\n",
    "    exog                  = X_train,\n",
    "    order                 = (p, d, q),\n",
    "    enforce_stationarity  = False,\n",
    "    enforce_invertibility = False\n",
    ")\n",
    "results = model.fit(disp = False)\n",
    "print(results.summary())"
   ]
  },
  {
   "cell_type": "markdown",
   "metadata": {},
   "source": [
    "#7 \\\n",
    "The fitted model produces one-step-ahead dynamic forecasts for the 52-week hold-out period, conditional on the contemporaneous exogenous variables. The resulting vector represents the model’s predictive performance under realistic, forward-looking conditions."
   ]
  },
  {
   "cell_type": "code",
   "execution_count": 20,
   "metadata": {},
   "outputs": [],
   "source": [
    "y_pred = results.forecast(steps = len(y_test), exog = X_test)"
   ]
  },
  {
   "cell_type": "markdown",
   "metadata": {},
   "source": [
    "#8 \\\n",
    "Predictive accuracy is quantified by the root-mean-squared error (RMSE), mean absolute error (MAE), and the coefficient of determination (R²). RMSE retains the scale of the response variable, MAE offers robustness to outliers, and R² conveys the proportion of variance explained."
   ]
  },
  {
   "cell_type": "code",
   "execution_count": 21,
   "metadata": {},
   "outputs": [
    {
     "name": "stdout",
     "output_type": "stream",
     "text": [
      "\n",
      "Test RMSE : 70.175\n",
      "Test MAE  : 60.855\n",
      "Test R²   : -24.031\n"
     ]
    }
   ],
   "source": [
    "rmse = np.sqrt(mean_squared_error(y_test, y_pred))\n",
    "mae  = mean_absolute_error(y_test, y_pred)\n",
    "r2   = r2_score(y_test, y_pred)\n",
    "\n",
    "print(f'\\nTest RMSE : {rmse:,.3f}')\n",
    "print(f'Test MAE  : {mae:,.3f}')\n",
    "print(f'Test R²   : {r2:,.3f}')"
   ]
  },
  {
   "cell_type": "markdown",
   "metadata": {},
   "source": [
    "| Metric | Value | Rule-of-thumb reading |\n",
    "|:------:|:-----:|:-------------------------------------------------------------|\n",
    "| **RMSE** | **70.18 USD** | Average absolute forecast error ≈ \\$70 per share. |\n",
    "| **MAE**  | **60.86 USD** | Median-like error measure; still large. |\n",
    "| **R²**   | **–24.03**    | Negative value: model performs worse than a naïve “predict the historical mean” baseline. |"
   ]
  },
  {
   "cell_type": "markdown",
   "metadata": {},
   "source": [
    "Predictive accuracy on the withheld 52 weeks is poor; the model neither captures level nor direction adequately."
   ]
  },
  {
   "cell_type": "markdown",
   "metadata": {},
   "source": [
    "#9 \\\n",
    "A time-series plot juxtaposes the training trajectory, the actual test observations, and the corresponding forecasts. Visual inspection aids in detecting systematic bias, structural breaks, or volatility clustering that numeric metrics alone may obscure."
   ]
  },
  {
   "cell_type": "code",
   "execution_count": 22,
   "metadata": {},
   "outputs": [
    {
     "data": {
      "image/png": "[encoded data removed]",
      "text/plain": [
       "<Figure size 1000x500 with 1 Axes>"
      ]
     },
     "metadata": {},
     "output_type": "display_data"
    }
   ],
   "source": [
    "plt.figure(figsize = (10, 5))\n",
    "plt.plot(y_train.index, y_train,               label = 'Train')\n",
    "plt.plot(y_test.index,  y_test,                label = 'Actual',   linewidth = 2)\n",
    "plt.plot(y_pred.index,  y_pred,                label = 'Forecast', linewidth = 2)\n",
    "plt.title('Boeing Stock – ARIMAX Forecast vs Actual')\n",
    "plt.xlabel('Date')\n",
    "plt.ylabel('Price')\n",
    "plt.legend()\n",
    "plt.tight_layout()\n",
    "plt.show()"
   ]
  },
  {
   "cell_type": "markdown",
   "metadata": {},
   "source": [
    "- Training fit (blue): captures the long-run escalation in Boeing’s price up to ~2020.\n",
    "- Actual test path (orange): shows a pronounced dip in early 2024 followed by a modest rebound.\n",
    "- Forecast (green): projects a steady increase, completely missing the early-2024 downturn.\n",
    "\n",
    "The model extrapolates recent upward momentum in DJI/GDP and ignores Boeing-specific shocks. Hence the systematic bias."
   ]
  },
  {
   "cell_type": "markdown",
   "metadata": {},
   "source": [
    "#10 \\\n",
    "To obtain a more reliable estimate of generalisation error, a five-fold expanding-window cross-validation is performed. For each fold, the model is re-estimated on an incrementally larger training slice and evaluated on the immediately succeeding test slice. The distribution of RMSE across folds (reported as mean ± standard deviation) reflects the model’s stability over different historical regimes."
   ]
  },
  {
   "cell_type": "code",
   "execution_count": 23,
   "metadata": {},
   "outputs": [
    {
     "name": "stdout",
     "output_type": "stream",
     "text": [
      "\n",
      "Walk-forward CV RMSE (mean ± sd): 46.851 ± 37.307\n"
     ]
    }
   ],
   "source": [
    "tscv = TimeSeriesSplit(n_splits = 5)\n",
    "cv_rmse = []\n",
    "\n",
    "for train_idx, test_idx in tscv.split(X):\n",
    "    y_tr, y_te = y.iloc[train_idx], y.iloc[test_idx]\n",
    "    X_tr, X_te = X.iloc[train_idx], X.iloc[test_idx]\n",
    "\n",
    "    mdl = SARIMAX(y_tr, exog = X_tr, order = (p, d, q),\n",
    "                  enforce_stationarity = False,\n",
    "                  enforce_invertibility = False)\n",
    "    res = mdl.fit(disp = False)\n",
    "    y_hat = res.forecast(steps = len(y_te), exog = X_te)\n",
    "\n",
    "    cv_rmse.append(np.sqrt(mean_squared_error(y_te, y_hat)))\n",
    "\n",
    "print(f'\\nWalk-forward CV RMSE (mean ± sd): {np.mean(cv_rmse):,.3f} ± {np.std(cv_rmse):,.3f}')"
   ]
  },
  {
   "cell_type": "markdown",
   "metadata": {},
   "source": [
    "- Mean RMSE: 46.85\n",
    "- Standard deviation: 37.31\n",
    "\n",
    "The high dispersion (σ ≈ 80 % of the mean) tells us that performance is highly regime-dependent: in some historical windows the model does reasonably well, in others it collapses."
   ]
  }
 ],
 "metadata": {
  "kernelspec": {
   "display_name": "Python 3",
   "language": "python",
   "name": "python3"
  },
  "language_info": {
   "codemirror_mode": {
    "name": "ipython",
    "version": 3
   },
   "file_extension": ".py",
   "mimetype": "text/x-python",
   "name": "python",
   "nbconvert_exporter": "python",
   "pygments_lexer": "ipython3",
   "version": "3.10.8"
  }
 },
 "nbformat": 4,
 "nbformat_minor": 2
}
