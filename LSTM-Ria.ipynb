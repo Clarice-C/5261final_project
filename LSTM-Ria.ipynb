{
 "cells": [
  {
   "cell_type": "code",
   "execution_count": 1,
   "id": "5e480363-ee72-42ab-80c1-02ac2b5c5232",
   "metadata": {},
   "outputs": [],
   "source": [
    "import pandas as pd\n",
    "import numpy as np\n",
    "import torch\n",
    "import torch.nn as nn\n",
    "from torch.utils.data import DataLoader, TensorDataset\n",
    "from sklearn.preprocessing import StandardScaler\n",
    "import matplotlib.pyplot as plt\n",
    "from sklearn.metrics import mean_squared_error, mean_absolute_error, r2_score\n"
   ]
  },
  {
   "cell_type": "code",
   "execution_count": 3,
   "id": "a5090e96-6dbf-43a0-87fb-fcc98d02e251",
   "metadata": {},
   "outputs": [],
   "source": [
    "# Read data\n",
    "df = pd.read_csv(\"data.csv\")\n",
    "df = df.iloc[:-1]  # Drop last row with NaN\n",
    "df['date'] = pd.to_datetime(df['date'])\n",
    "\n",
    "# Drop early rows with missing 'AI'\n",
    "df = df.dropna()\n",
    "\n",
    "# Define target and features\n",
    "target_col = 'boeing'\n",
    "feature_cols = df.columns.difference(['date', target_col])\n",
    "\n",
    "# Set index for easier alignment\n",
    "df = df.set_index('date')\n"
   ]
  },
  {
   "cell_type": "code",
   "execution_count": 5,
   "id": "5cd3d82d-42ab-473c-8b83-566860e24ea3",
   "metadata": {},
   "outputs": [],
   "source": [
    "# Standardize target and features separately\n",
    "target_scaler = StandardScaler()\n",
    "X_scaler = StandardScaler()\n",
    "\n",
    "y_scaled = target_scaler.fit_transform(df[[target_col]])\n",
    "X_scaled = X_scaler.fit_transform(df[feature_cols])\n",
    "\n",
    "# Convert to numpy arrays\n",
    "y_scaled = y_scaled.flatten()\n"
   ]
  },
  {
   "cell_type": "code",
   "execution_count": 7,
   "id": "7836d107-7fa5-44cf-929f-9a0dfc059f53",
   "metadata": {},
   "outputs": [],
   "source": [
    "def create_sequences(X, y, seq_len):\n",
    "    xs, ys = [], []\n",
    "    for i in range(len(X) - seq_len):\n",
    "        xs.append(X[i:i+seq_len])\n",
    "        ys.append(y[i+seq_len])\n",
    "    return np.array(xs), np.array(ys)\n",
    "\n",
    "seq_len = 30\n",
    "X_seq, y_seq = create_sequences(X_scaled, y_scaled, seq_len)\n"
   ]
  },
  {
   "cell_type": "code",
   "execution_count": 9,
   "id": "8e878956-a38b-4c22-b8d0-ae6dbb11c3e7",
   "metadata": {},
   "outputs": [],
   "source": [
    "split_idx = int(len(X_seq) * 0.7)\n",
    "\n",
    "X_train = torch.tensor(X_seq[:split_idx], dtype=torch.float32)\n",
    "y_train = torch.tensor(y_seq[:split_idx], dtype=torch.float32)\n",
    "\n",
    "X_test = torch.tensor(X_seq[split_idx:], dtype=torch.float32)\n",
    "y_test = torch.tensor(y_seq[split_idx:], dtype=torch.float32)\n",
    "\n",
    "train_dataset = TensorDataset(X_train, y_train)\n",
    "train_loader = DataLoader(train_dataset, batch_size=32, shuffle=True)\n"
   ]
  },
  {
   "cell_type": "code",
   "execution_count": 11,
   "id": "5b54cbeb-c2d6-4bf6-b734-d7e0df4377de",
   "metadata": {},
   "outputs": [],
   "source": [
    "class LSTMModel(nn.Module):\n",
    "    def __init__(self, input_size, hidden_size, num_layers, output_size):\n",
    "        super(LSTMModel, self).__init__()\n",
    "        self.lstm = nn.LSTM(input_size, hidden_size, num_layers, batch_first=True)\n",
    "        self.fc = nn.Linear(hidden_size, output_size)\n",
    "\n",
    "    def forward(self, x):\n",
    "        out, _ = self.lstm(x)\n",
    "        out = self.fc(out[:, -1, :])  # Take last time step\n",
    "        return out\n",
    "\n",
    "input_size = X_train.shape[2]\n",
    "model = LSTMModel(input_size=input_size, hidden_size=64, num_layers=2, output_size=1)\n"
   ]
  },
  {
   "cell_type": "code",
   "execution_count": null,
   "id": "97035612-1ede-4bd3-86c9-a26765b15a5e",
   "metadata": {},
   "outputs": [],
   "source": [
    "device = torch.device('cuda' if torch.cuda.is_available() else 'cpu')\n",
    "model.to(device)\n",
    "\n",
    "criterion = nn.MSELoss()\n",
    "optimizer = torch.optim.Adam(model.parameters(), lr=0.001)\n",
    "\n",
    "num_epochs = 100\n",
    "model.train()\n",
    "for epoch in range(num_epochs):\n",
    "    total_loss = 0\n",
    "    for X_batch, y_batch in train_loader:\n",
    "        X_batch, y_batch = X_batch.to(device), y_batch.unsqueeze(1).to(device)\n",
    "\n",
    "        optimizer.zero_grad()\n",
    "        output = model(X_batch)\n",
    "        loss = criterion(output, y_batch)\n",
    "        loss.backward()\n",
    "        optimizer.step()\n",
    "\n",
    "        total_loss += loss.item()\n",
    "    if (epoch+1) % 20 == 0:\n",
    "        print(f\"Epoch {epoch+1}/{num_epochs}, Loss: {total_loss/len(train_loader):.6f}\")\n"
   ]
  },
  {
   "cell_type": "code",
   "execution_count": null,
   "id": "c3f9cd80-a760-4c96-85b9-1b8321ee61fa",
   "metadata": {},
   "outputs": [],
   "source": []
  },
  {
   "cell_type": "code",
   "execution_count": null,
   "id": "32a6156a-194a-4586-aae1-50bc45667aa7",
   "metadata": {},
   "outputs": [],
   "source": []
  },
  {
   "cell_type": "code",
   "execution_count": null,
   "id": "144571bc-1fb1-43a8-b803-54a74accfa7e",
   "metadata": {},
   "outputs": [],
   "source": []
  },
  {
   "cell_type": "code",
   "execution_count": null,
   "id": "70db722a-f8cb-443f-bc1a-89f518f641ce",
   "metadata": {},
   "outputs": [],
   "source": []
  },
  {
   "cell_type": "code",
   "execution_count": null,
   "id": "942194fb-5519-4ed4-a369-8e19238fe6c6",
   "metadata": {},
   "outputs": [],
   "source": []
  },
  {
   "cell_type": "code",
   "execution_count": null,
   "id": "c12d8358-c9d4-49db-923a-d0276b185de0",
   "metadata": {},
   "outputs": [],
   "source": []
  },
  {
   "cell_type": "code",
   "execution_count": null,
   "id": "65f72f04-e9e8-4c11-a789-6b0c8d4803ef",
   "metadata": {},
   "outputs": [],
   "source": []
  }
 ],
 "metadata": {
  "kernelspec": {
   "display_name": "Python 3 (ipykernel)",
   "language": "python",
   "name": "python3"
  },
  "language_info": {
   "codemirror_mode": {
    "name": "ipython",
    "version": 3
   },
   "file_extension": ".py",
   "mimetype": "text/x-python",
   "name": "python",
   "nbconvert_exporter": "python",
   "pygments_lexer": "ipython3",
   "version": "3.12.4"
  }
 },
 "nbformat": 4,
 "nbformat_minor": 5
}
